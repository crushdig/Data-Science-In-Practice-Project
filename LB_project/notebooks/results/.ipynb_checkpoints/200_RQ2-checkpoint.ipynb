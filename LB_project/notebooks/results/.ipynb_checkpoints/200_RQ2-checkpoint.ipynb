{
 "cells": [
  {
   "cell_type": "code",
   "execution_count": null,
   "metadata": {},
   "outputs": [],
   "source": [
    "import pandas as pd\n",
    "import numpy as np\n",
    "import matplotlib.pyplot as plt\n",
    "%matplotlib inline\n",
    "import plotly.plotly as py\n",
    "import plotly.graph_objs as go\n",
    "from plotly.graph_objs import *"
   ]
  },
  {
   "cell_type": "code",
   "execution_count": null,
   "metadata": {},
   "outputs": [],
   "source": [
    "results_sexWork_df = pd.read_csv('../../data/raw/prepped_online_sex_work.csv')\n",
    "results_sexWork_df.head()"
   ]
  },
  {
   "cell_type": "code",
   "execution_count": null,
   "metadata": {},
   "outputs": [],
   "source": [
    "results_sexWork_df['Total_chat_time'] = pd.to_timedelta(results_sexWork_df['Total_chat_time'])"
   ]
  },
  {
   "cell_type": "code",
   "execution_count": null,
   "metadata": {},
   "outputs": [],
   "source": [
    "colours = ['#FFC8F2', '#BBDAFF']\n",
    "\n",
    "sexgroup_friends = results_sexWork_df.groupby(['Sexual_orientation', 'Gender'])['Friends'].mean()\n",
    "\n",
    "sexgroup_friends = sexgroup_friends.unstack()\n",
    "graph_sexgroup_friends = sexgroup_friends.plot(kind='bar', figsize=(20, 13), color=colours, rot=0, fontsize=21)\n",
    "\n",
    "graph_sexgroup_friends.set_xlabel('Sexual Orientation', fontsize=21)\n",
    "graph_sexgroup_friends.set_ylabel('Average Number of Friends', fontsize=21)\n",
    "graph_sexgroup_friends.legend(\n",
    "   loc='best',\n",
    "   ncol=1,\n",
    "   markerscale=1.5,\n",
    "   fontsize=15)"
   ]
  }
 ],
 "metadata": {
  "kernelspec": {
   "display_name": "Python 3",
   "language": "python",
   "name": "python3"
  },
  "language_info": {
   "codemirror_mode": {
    "name": "ipython",
    "version": 3
   },
   "file_extension": ".py",
   "mimetype": "text/x-python",
   "name": "python",
   "nbconvert_exporter": "python",
   "pygments_lexer": "ipython3",
   "version": "3.6.3"
  }
 },
 "nbformat": 4,
 "nbformat_minor": 2
}
